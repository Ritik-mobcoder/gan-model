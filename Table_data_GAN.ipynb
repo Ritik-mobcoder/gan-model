{
 "cells": [
  {
   "cell_type": "code",
   "execution_count": 2,
   "metadata": {},
   "outputs": [],
   "source": [
    "from ctgan import CTGAN\n",
    "import pandas as pd\n",
    "import torch\n",
    "from sdmetrics.reports.single_table import QualityReport\n",
    "import torch.version\n",
    "from sdv.single_table.copulagan import CopulaGANSynthesizer\n",
    "from sdv.single_table import TVAESynthesizer\n",
    "from sdv.metadata import SingleTableMetadata"
   ]
  },
  {
   "cell_type": "code",
   "execution_count": 3,
   "metadata": {},
   "outputs": [
    {
     "name": "stdout",
     "output_type": "stream",
     "text": [
      "True\n",
      "12.4\n",
      "2.5.1\n",
      "NVIDIA GeForce RTX 2080 Ti\n"
     ]
    }
   ],
   "source": [
    "\n",
    "print(torch.cuda.is_available())  # Returns True if CUDA is available\n",
    "print(torch.version.cuda)  # Prints the version of CUDA supported by the installed PyTorch\n",
    "print(torch.__version__)\n",
    "print(torch.cuda.get_device_name(0))      # Should print the name of your GPU"
   ]
  },
  {
   "cell_type": "code",
   "execution_count": 7,
   "metadata": {},
   "outputs": [
    {
     "name": "stdout",
     "output_type": "stream",
     "text": [
      "Generating report ...\n",
      "\n",
      "(1/2) Evaluating Column Shapes: |██████████| 7/7 [00:00<00:00, 635.78it/s]|\n",
      "Column Shapes Score: 76.9%\n",
      "\n",
      "(2/2) Evaluating Column Pair Trends: |██████████| 21/21 [00:00<00:00, 187.33it/s]|\n",
      "Column Pair Trends Score: 64.52%\n",
      "\n",
      "Overall Score (Average): 70.71%\n",
      "\n"
     ]
    }
   ],
   "source": [
    "def create_ctgan_model(input_csv_path, num_samples, model_save_path, synthetic_data_save_path):\n",
    "    # Load the dataset\n",
    "    real_data = pd.read_csv(input_csv_path)\n",
    "    real_data = real_data.drop(columns=['Code'])  # Remove the first column if it's an index column\n",
    "    metadata = {\n",
    "        'columns': {\n",
    "            'Entity': {'sdtype': 'categorical'},\n",
    "            'Year': {'sdtype': 'mumerical'},\n",
    "            'DALYs (rate) - Sex: Both - Age: Age-standardized - Cause: Depressive disorders': {'sdtype': 'numerical'},\n",
    "            'DALYs (rate) - Sex: Both - Age: Age-standardized - Cause: Schizophrenia': {'sdtype': 'numerical'},\n",
    "            'DALYs (rate) - Sex: Both - Age: Age-standardized - Cause: Bipolar disorder': {'sdtype': 'numerical'},\n",
    "            'DALYs (rate) - Sex: Both - Age: Age-standardized - Cause: Eating disorders': {'sdtype': 'numerical'},\n",
    "            'DALYs (rate) - Sex: Both - Age: Age-standardized - Cause: Anxiety disorders': {'sdtype': 'numerical'}\n",
    "        }\n",
    "    }\n",
    "    \n",
    "    # Identify categorical columns\n",
    "    categorical_columns = real_data.select_dtypes(include=['object']).columns.tolist()\n",
    "\n",
    "    # Convert object columns to category\n",
    "    for column in categorical_columns:\n",
    "        real_data[column] = real_data[column].astype('category')\n",
    "\n",
    "    # Initialize CTGAN\n",
    "    model = CTGAN(cuda=torch.cuda.is_available())\n",
    "\n",
    "    # Fit the model\n",
    "    model.fit(real_data, discrete_columns=categorical_columns)\n",
    "    # Generate synthetic \n",
    "    synthetic_data = model.sample(num_samples)\n",
    "\n",
    "    # Save the model and synthetic data\n",
    "    model.save(model_save_path)\n",
    "    synthetic_data.to_csv(synthetic_data_save_path, index=False)\n",
    "    \n",
    "    my_report = QualityReport()\n",
    "    my_report.generate(real_data, synthetic_data, metadata)\n",
    "\n",
    "    return model, synthetic_data\n",
    "\n",
    "# Usage example\n",
    "input_csv_path = 'heath2.csv'\n",
    "model_save_path = 'model/synthetic_data_mental_illness_ctgan.pkl'\n",
    "synthetic_data_save_path = 'output/synthetic_data_mental_illness_ctgan.csv'\n",
    "num_samples = 50\n",
    "\n",
    "ctgan_model, synthetic_samples = create_ctgan_model(\n",
    "    input_csv_path=input_csv_path,\n",
    "    num_samples=num_samples,\n",
    "    model_save_path=model_save_path,\n",
    "    synthetic_data_save_path=synthetic_data_save_path\n",
    ")\n"
   ]
  },
  {
   "cell_type": "markdown",
   "metadata": {},
   "source": [
    "## CopulaGAN"
   ]
  },
  {
   "cell_type": "code",
   "execution_count": 10,
   "metadata": {},
   "outputs": [
    {
     "name": "stderr",
     "output_type": "stream",
     "text": [
      "c:\\Users\\Mobcoder ID-090\\anaconda3\\envs\\tf_env_gpu\\lib\\site-packages\\sdv\\single_table\\base.py:119: FutureWarning: The 'SingleTableMetadata' is deprecated. Please use the new 'Metadata' class for synthesizers.\n",
      "  warnings.warn(DEPRECATION_MSG, FutureWarning)\n",
      "c:\\Users\\Mobcoder ID-090\\anaconda3\\envs\\tf_env_gpu\\lib\\site-packages\\sdv\\single_table\\base.py:104: UserWarning: We strongly recommend saving the metadata using 'save_to_json' for replicability in future SDV versions.\n",
      "  warnings.warn(\n"
     ]
    },
    {
     "name": "stdout",
     "output_type": "stream",
     "text": [
      "Generating report ...\n",
      "\n",
      "(1/2) Evaluating Column Shapes: |██████████| 7/7 [00:00<00:00, 582.81it/s]|\n",
      "Column Shapes Score: 76.61%\n",
      "\n",
      "(2/2) Evaluating Column Pair Trends: |██████████| 21/21 [00:00<00:00, 203.70it/s]|\n",
      "Column Pair Trends Score: 69.13%\n",
      "\n",
      "Overall Score (Average): 72.87%\n",
      "\n"
     ]
    }
   ],
   "source": [
    "def create_ctgan_model(input_csv_path, num_samples, model_save_path, synthetic_data_save_path):\n",
    "    # Load the dataset\n",
    "    real_data = pd.read_csv(input_csv_path)\n",
    "    real_data = real_data.drop(columns=['Code'])  \n",
    "    \n",
    "    metadata = SingleTableMetadata()\n",
    "    metadata.detect_from_dataframe(real_data)\n",
    "    model = CopulaGANSynthesizer(cuda=torch.cuda.is_available(), metadata=metadata)\n",
    "    model.fit(real_data) \n",
    "    synthetic_data = model.sample(num_samples)\n",
    "\n",
    "    model.save(model_save_path)\n",
    "    synthetic_data.to_csv(synthetic_data_save_path, index=False)\n",
    "    \n",
    "    my_report = QualityReport()\n",
    "    my_report.generate(real_data, synthetic_data, metadata.to_dict())\n",
    "\n",
    "    return model, synthetic_data\n",
    "\n",
    "# Usage example\n",
    "input_csv_path = 'heath2.csv'\n",
    "model_save_path = 'model/synthetic_data_mental_illness_copula.pkl'\n",
    "synthetic_data_save_path = 'output/synthetic_data_mental_illness_copula.csv'\n",
    "num_samples = 50\n",
    "\n",
    "ctgan_model, synthetic_samples = create_ctgan_model(\n",
    "    input_csv_path=input_csv_path,\n",
    "    num_samples=num_samples,\n",
    "    model_save_path=model_save_path,\n",
    "    synthetic_data_save_path=synthetic_data_save_path\n",
    ")\n"
   ]
  },
  {
   "cell_type": "code",
   "execution_count": 22,
   "metadata": {},
   "outputs": [
    {
     "name": "stderr",
     "output_type": "stream",
     "text": [
      "c:\\Users\\Mobcoder ID-090\\anaconda3\\envs\\tf_env_gpu\\lib\\site-packages\\sdv\\single_table\\base.py:119: FutureWarning: The 'SingleTableMetadata' is deprecated. Please use the new 'Metadata' class for synthesizers.\n",
      "  warnings.warn(DEPRECATION_MSG, FutureWarning)\n",
      "c:\\Users\\Mobcoder ID-090\\anaconda3\\envs\\tf_env_gpu\\lib\\site-packages\\sdv\\single_table\\base.py:104: UserWarning: We strongly recommend saving the metadata using 'save_to_json' for replicability in future SDV versions.\n",
      "  warnings.warn(\n"
     ]
    },
    {
     "name": "stdout",
     "output_type": "stream",
     "text": [
      "Generating report ...\n",
      "\n",
      "(1/2) Evaluating Column Shapes: |██████████| 7/7 [00:00<00:00, 466.24it/s]|\n",
      "Column Shapes Score: 78.4%\n",
      "\n",
      "(2/2) Evaluating Column Pair Trends: |██████████| 21/21 [00:00<00:00, 194.27it/s]|\n",
      "Column Pair Trends Score: 70.49%\n",
      "\n",
      "Overall Score (Average): 74.44%\n",
      "\n",
      "Quality Report:\n",
      "0.7444187972229181\n"
     ]
    }
   ],
   "source": [
    "\n",
    "\n",
    "def create_tvae_model(input_csv_path, num_samples, model_save_path, synthetic_data_save_path):\n",
    "    # Load the dataset\n",
    "    real_data = pd.read_csv(input_csv_path)\n",
    "    real_data = real_data.drop(columns=['Code'])  # Adjust this based on your dataset structure\n",
    "    \n",
    "    # Define metadata\n",
    "    metadata = SingleTableMetadata()\n",
    "    metadata.detect_from_dataframe(real_data)\n",
    "    \n",
    "    # Initialize the TVAE synthesizer\n",
    "    model = TVAESynthesizer(metadata=metadata, cuda=torch.cuda.is_available())\n",
    "    \n",
    "    # Fit the model\n",
    "    model.fit(real_data)\n",
    "    \n",
    "    # Generate synthetic data\n",
    "    synthetic_data = model.sample(num_samples)\n",
    "    \n",
    "    # Save the trained model and synthetic data\n",
    "    model.save(model_save_path)\n",
    "    synthetic_data.to_csv(synthetic_data_save_path, index=False)\n",
    "    \n",
    "    # Generate a quality report\n",
    "    my_report = QualityReport()\n",
    "    my_report.generate(real_data, synthetic_data, metadata.to_dict())\n",
    "    \n",
    "    print(\"Quality Report:\")\n",
    "    print(my_report.get_score())\n",
    "    \n",
    "    return model, synthetic_data\n",
    "\n",
    "# Usage example\n",
    "input_csv_path = 'heath2.csv'\n",
    "model_save_path = 'model/synthetic_data_mental_illness_tvae.pkl'\n",
    "synthetic_data_save_path = 'output/synthetic_data_mental_illness_tvae.csv'\n",
    "num_samples = 50\n",
    "\n",
    "tvae_model, synthetic_samples = create_tvae_model(\n",
    "    input_csv_path=input_csv_path,\n",
    "    num_samples=num_samples,\n",
    "    model_save_path=model_save_path,\n",
    "    synthetic_data_save_path=synthetic_data_save_path\n",
    ")\n"
   ]
  },
  {
   "cell_type": "code",
   "execution_count": null,
   "metadata": {},
   "outputs": [],
   "source": []
  }
 ],
 "metadata": {
  "kernelspec": {
   "display_name": "tf_env_gpu",
   "language": "python",
   "name": "python3"
  },
  "language_info": {
   "codemirror_mode": {
    "name": "ipython",
    "version": 3
   },
   "file_extension": ".py",
   "mimetype": "text/x-python",
   "name": "python",
   "nbconvert_exporter": "python",
   "pygments_lexer": "ipython3",
   "version": "3.9.18"
  }
 },
 "nbformat": 4,
 "nbformat_minor": 2
}
