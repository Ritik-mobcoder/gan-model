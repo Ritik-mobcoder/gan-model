{
 "cells": [
  {
   "cell_type": "code",
   "execution_count": 1,
   "metadata": {},
   "outputs": [
    {
     "name": "stderr",
     "output_type": "stream",
     "text": [
      "/home/mobcoder/anaconda3/envs/gan_env/lib/python3.9/site-packages/tqdm/auto.py:21: TqdmWarning: IProgress not found. Please update jupyter and ipywidgets. See https://ipywidgets.readthedocs.io/en/stable/user_install.html\n",
      "  from .autonotebook import tqdm as notebook_tqdm\n"
     ]
    }
   ],
   "source": [
    "import torch\n",
    "import torch.nn as nn\n",
    "import torch.optim as optim\n",
    "import torchvision\n",
    "from torchvision import datasets, transforms\n",
    "import matplotlib.pyplot as plt\n",
    "import numpy as np\n",
    "\n",
    "# Set device\n",
    "device = torch.device('cuda' if torch.cuda.is_available() else 'cpu')"
   ]
  },
  {
   "cell_type": "code",
   "execution_count": 2,
   "metadata": {},
   "outputs": [],
   "source": [
    "# Define a basic transform\n",
    "transform = transforms.Compose([\n",
    "    transforms.ToTensor(),\n",
    "    transforms.Normalize((0.5, 0.5, 0.5), (0.5, 0.5, 0.5))\n",
    "])"
   ]
  },
  {
   "cell_type": "code",
   "execution_count": 3,
   "metadata": {},
   "outputs": [],
   "source": [
    "# train_dataset = datasets.CIFAR10(root='./data',\\\n",
    "#               train=True, download=True, transform=transform)\n",
    "# dataloader = torch.utils.data.DataLoader(train_dataset, \\\n",
    "#                                 batch_size=32, shuffle=True)"
   ]
  },
  {
   "cell_type": "code",
   "execution_count": 4,
   "metadata": {},
   "outputs": [],
   "source": [
    "# Hyperparameters\n",
    "latent_dim = 100\n",
    "lr = 0.0002\n",
    "beta1 = 0.5\n",
    "beta2 = 0.999\n",
    "num_epochs = 10"
   ]
  },
  {
   "cell_type": "code",
   "execution_count": 5,
   "metadata": {},
   "outputs": [],
   "source": [
    "# Define the generator\n",
    "class Generator(nn.Module):\n",
    "    def __init__(self, latent_dim):\n",
    "        super(Generator, self).__init__()\n",
    "\n",
    "        self.model = nn.Sequential(\n",
    "            nn.Linear(latent_dim, 128 * 8 * 8),\n",
    "            nn.ReLU(),\n",
    "            nn.Unflatten(1, (128, 8, 8)),\n",
    "            nn.Upsample(scale_factor=2),\n",
    "            nn.Conv2d(128, 128, kernel_size=3, padding=1),\n",
    "            nn.BatchNorm2d(128, momentum=0.78),\n",
    "            nn.ReLU(),\n",
    "            nn.Upsample(scale_factor=2),\n",
    "            nn.Conv2d(128, 64, kernel_size=3, padding=1),\n",
    "            nn.BatchNorm2d(64, momentum=0.78),\n",
    "            nn.ReLU(),\n",
    "            nn.Conv2d(64, 3, kernel_size=3, padding=1),\n",
    "            nn.Tanh()\n",
    "        )\n",
    "\n",
    "    def forward(self, z):\n",
    "        img = self.model(z)\n",
    "        return img"
   ]
  },
  {
   "cell_type": "code",
   "execution_count": 6,
   "metadata": {},
   "outputs": [],
   "source": [
    "# Define the discriminator\n",
    "class Discriminator(nn.Module):\n",
    "    def __init__(self):\n",
    "        super(Discriminator, self).__init__()\n",
    "\n",
    "        self.model = nn.Sequential(\n",
    "        nn.Conv2d(3, 32, kernel_size=3, stride=2, padding=1),\n",
    "        nn.LeakyReLU(0.2),\n",
    "        nn.Dropout(0.25),\n",
    "        nn.Conv2d(32, 64, kernel_size=3, stride=2, padding=1),\n",
    "        nn.ZeroPad2d((0, 1, 0, 1)),\n",
    "        nn.BatchNorm2d(64, momentum=0.82),\n",
    "        nn.LeakyReLU(0.25),\n",
    "        nn.Dropout(0.25),\n",
    "        nn.Conv2d(64, 128, kernel_size=3, stride=2, padding=1),\n",
    "        nn.BatchNorm2d(128, momentum=0.82),\n",
    "        nn.LeakyReLU(0.2),\n",
    "        nn.Dropout(0.25),\n",
    "        nn.Conv2d(128, 256, kernel_size=3, stride=1, padding=1),\n",
    "        nn.BatchNorm2d(256, momentum=0.8),\n",
    "        nn.LeakyReLU(0.25),\n",
    "        nn.Dropout(0.25),\n",
    "        nn.Flatten(),\n",
    "        nn.Linear(256 * 5 * 5, 1),\n",
    "        nn.Sigmoid()\n",
    "    )\n",
    "\n",
    "    def forward(self, img):\n",
    "        validity = self.model(img)\n",
    "        return validity"
   ]
  },
  {
   "cell_type": "code",
   "execution_count": 7,
   "metadata": {},
   "outputs": [],
   "source": [
    "# Define the generator and discriminator\n",
    "# Initialize generator and discriminator\n",
    "generator = Generator(latent_dim).to(device)\n",
    "discriminator = Discriminator().to(device)\n",
    "# Loss function\n",
    "adversarial_loss = nn.BCELoss()\n",
    "# Optimizers\n",
    "optimizer_G = optim.Adam(generator.parameters()\\\n",
    "                         , lr=lr, betas=(beta1, beta2))\n",
    "optimizer_D = optim.Adam(discriminator.parameters()\\\n",
    "                         , lr=lr, betas=(beta1, beta2))"
   ]
  },
  {
   "cell_type": "code",
   "execution_count": 8,
   "metadata": {},
   "outputs": [],
   "source": [
    "# # Training loop\n",
    "# for epoch in range(num_epochs):\n",
    "#     for i, batch in enumerate(dataloader):\n",
    "#        # Convert list to tensor\n",
    "#         real_images = batch[0].to(device) \n",
    "#         # Adversarial ground truths\n",
    "#         valid = torch.ones(real_images.size(0), 1, device=device)\n",
    "#         fake = torch.zeros(real_images.size(0), 1, device=device)\n",
    "#         # Configure input\n",
    "#         real_images = real_images.to(device)\n",
    "\n",
    "#         # ---------------------\n",
    "#         #  Train Discriminator\n",
    "#         # ---------------------\n",
    "#         optimizer_D.zero_grad()\n",
    "#         # Sample noise as generator input\n",
    "#         z = torch.randn(real_images.size(0), latent_dim, device=device)\n",
    "#         # Generate a batch of images\n",
    "#         fake_images = generator(z)\n",
    "\n",
    "#         # Measure discriminator's ability \n",
    "#         # to classify real and fake images\n",
    "#         real_loss = adversarial_loss(discriminator\\\n",
    "#                                      (real_images), valid)\n",
    "#         fake_loss = adversarial_loss(discriminator\\\n",
    "#                                      (fake_images.detach()), fake)\n",
    "#         d_loss = (real_loss + fake_loss) / 2\n",
    "#         # Backward pass and optimize\n",
    "#         d_loss.backward()\n",
    "#         optimizer_D.step()\n",
    "\n",
    "#         # -----------------\n",
    "#         #  Train Generator\n",
    "#         # -----------------\n",
    "\n",
    "#         optimizer_G.zero_grad()\n",
    "#         # Generate a batch of images\n",
    "#         gen_images = generator(z)\n",
    "#         # Adversarial loss\n",
    "#         g_loss = adversarial_loss(discriminator(gen_images), valid)\n",
    "#         # Backward pass and optimize\n",
    "#         g_loss.backward()\n",
    "#         optimizer_G.step()\n",
    "#         # ---------------------\n",
    "#         #  Progress Monitoring\n",
    "#         # ---------------------\n",
    "#         if (i + 1) % 100 == 0:\n",
    "#             print(\n",
    "#                 f\"Epoch [{epoch+1}/{num_epochs}]\\\n",
    "#                         Batch {i+1}/{len(dataloader)} \"\n",
    "#                 f\"Discriminator Loss: {d_loss.item():.4f} \"\n",
    "#                 f\"Generator Loss: {g_loss.item():.4f}\"\n",
    "#             )\n",
    "#     # Save generated images for every epoch\n",
    "#     if (epoch + 1) % 10 == 0:\n",
    "#         with torch.no_grad():\n",
    "#             z = torch.randn(16, latent_dim, device=device)\n",
    "#             generated = generator(z).detach().cpu()\n",
    "#             grid = torchvision.utils.make_grid(generated,\\\n",
    "#                                         nrow=4, normalize=True)\n",
    "#             plt.imshow(np.transpose(grid, (1, 2, 0)))\n",
    "#             plt.axis(\"off\")\n",
    "#             plt.show()"
   ]
  },
  {
   "cell_type": "code",
   "execution_count": 9,
   "metadata": {},
   "outputs": [
    {
     "name": "stdout",
     "output_type": "stream",
     "text": [
      "False\n"
     ]
    }
   ],
   "source": [
    "import torch\n",
    "print(torch.cuda.is_available())  # Should print True if CUDA is available\n"
   ]
  },
  {
   "cell_type": "code",
   "execution_count": null,
   "metadata": {},
   "outputs": [],
   "source": []
  }
 ],
 "metadata": {
  "kernelspec": {
   "display_name": "gan_env",
   "language": "python",
   "name": "python3"
  },
  "language_info": {
   "codemirror_mode": {
    "name": "ipython",
    "version": 3
   },
   "file_extension": ".py",
   "mimetype": "text/x-python",
   "name": "python",
   "nbconvert_exporter": "python",
   "pygments_lexer": "ipython3",
   "version": "3.9.21"
  }
 },
 "nbformat": 4,
 "nbformat_minor": 2
}
